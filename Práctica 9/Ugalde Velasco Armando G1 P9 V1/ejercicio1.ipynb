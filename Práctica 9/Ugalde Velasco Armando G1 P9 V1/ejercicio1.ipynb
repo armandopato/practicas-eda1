{
 "cells": [
  {
   "cell_type": "code",
   "execution_count": 17,
   "metadata": {},
   "outputs": [
    {
     "name": "stdout",
     "output_type": "stream",
     "text": [
      "Valor: 2413\n",
      "1) Millas a km\n",
      "2) Km a millas\n",
      "432\n",
      "Digite una opción válida: 12\n",
      "Digite una opción válida: 1\n",
      "Kilometros: 3883.33742\n"
     ]
    }
   ],
   "source": [
    "def millasKm ():\n",
    "    \n",
    "    num = int(input(\"Valor: \"))\n",
    "    \n",
    "    print(\"1) Millas a km\")\n",
    "    print(\"2) Km a millas\")\n",
    "    opc = int(input())\n",
    "    \n",
    "    while(opc != 1 and opc != 2):\n",
    "        opc = int(input(\"Digite una opción válida: \"))\n",
    "    \n",
    "    if (opc == 1):\n",
    "        print(\"Kilometros: \" + str(num*1.60934))\n",
    "    else:\n",
    "        print(\"Millas: \" + str(num*0.621371))\n",
    "        \n",
    "millasKm()"
   ]
  },
  {
   "cell_type": "code",
   "execution_count": 18,
   "metadata": {},
   "outputs": [
    {
     "name": "stdout",
     "output_type": "stream",
     "text": [
      "Grados: 213\n",
      "1) Centígrados a Fahrenheit\n",
      "2) Fahrenheit a Centígrados\n",
      "2\n",
      "Centigrados: 100.55555555555556\n"
     ]
    }
   ],
   "source": [
    "def centiFahr ():\n",
    "    \n",
    "    num = int(input(\"Grados: \"))\n",
    "    \n",
    "    print(\"1) Centígrados a Fahrenheit\")\n",
    "    print(\"2) Fahrenheit a Centígrados\")\n",
    "    opc = int(input())\n",
    "    \n",
    "    while(opc != 1 and opc != 2):\n",
    "        opc = int(input(\"Digite una opción válida: \"))\n",
    "    \n",
    "    if (opc == 1):\n",
    "        print(\"Fahrenheit: \" + str(num*1.8 + 32))\n",
    "    else:\n",
    "        print(\"Centigrados: \" + str((num - 32) / 1.8))\n",
    "\n",
    "centiFahr()"
   ]
  }
 ],
 "metadata": {
  "kernelspec": {
   "display_name": "Python 3",
   "language": "python",
   "name": "python3"
  },
  "language_info": {
   "codemirror_mode": {
    "name": "ipython",
    "version": 3
   },
   "file_extension": ".py",
   "mimetype": "text/x-python",
   "name": "python",
   "nbconvert_exporter": "python",
   "pygments_lexer": "ipython3",
   "version": "3.7.4"
  }
 },
 "nbformat": 4,
 "nbformat_minor": 2
}
